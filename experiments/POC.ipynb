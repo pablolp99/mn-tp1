{
 "cells": [
  {
   "cell_type": "code",
   "execution_count": 1,
   "id": "5a899e19-f474-4768-bcc7-e059ff033f35",
   "metadata": {},
   "outputs": [],
   "source": [
    "import numpy as np\n",
    "import pandas as pd"
   ]
  },
  {
   "cell_type": "code",
   "execution_count": 2,
   "id": "df428f54-62f8-4499-9f93-4227655b7a2a",
   "metadata": {},
   "outputs": [],
   "source": [
    "# Input\n",
    "INTERNAL_RADIUS = 5.0\n",
    "EXTERNAL_RADIUS = 6.0\n",
    "M_1_RADIUS = 5 # 5\n",
    "N_DEGREES = 4 # 4\n",
    "ISOTERMA = 500\n",
    "TEMP_INT = np.array([1500 for i in range(N_DEGREES)])\n",
    "TEMP_EXT = np.random.normal(loc=150, scale=10, size=N_DEGREES)\n",
    "RADIUSES = np.linspace(INTERNAL_RADIUS, EXTERNAL_RADIUS, M_1_RADIUS)\n",
    "DEGREES = np.linspace(0.0, 2*np.pi, N_DEGREES)\n",
    "\n",
    "delta_r = (EXTERNAL_RADIUS - INTERNAL_RADIUS)/(M_1_RADIUS)\n",
    "delta_g = 2 * np.pi / N_DEGREES\n",
    "size = (M_1_RADIUS) * (N_DEGREES)"
   ]
  },
  {
   "cell_type": "markdown",
   "id": "3da5d6b6-8c04-493e-9182-baa1c17f8ec8",
   "metadata": {},
   "source": [
    "5 6 5 4 500 1\n",
    "1500 1500 1500 1500 160.8435309947052 162.42036793522266 159.59264334173378 144.6919884216488 "
   ]
  },
  {
   "cell_type": "code",
   "execution_count": 3,
   "id": "9208c04c-01d2-47c6-b405-965c4456026b",
   "metadata": {},
   "outputs": [
    {
     "data": {
      "text/plain": [
       "0.2"
      ]
     },
     "execution_count": 3,
     "metadata": {},
     "output_type": "execute_result"
    }
   ],
   "source": [
    "delta_r"
   ]
  },
  {
   "cell_type": "code",
   "execution_count": 4,
   "id": "7d8df704-f336-4f96-8dc9-e1ff55925dd5",
   "metadata": {},
   "outputs": [],
   "source": [
    "A = np.zeros((size, size))"
   ]
  },
  {
   "cell_type": "markdown",
   "id": "145f71fb-fbae-424c-a715-0bcfadbf1d05",
   "metadata": {},
   "source": [
    "La ecuacion que en el estacionario dice que\n",
    "\n",
    "\\begin{equation} \n",
    "   \\frac{\\partial^2 T}{\\partial r^2} (r, \\theta) + \\frac{\\partial T}{r \\partial r}(r, \\theta) + \\frac{\\partial^2 T}{r^2 \\partial \\theta^2}(r, \\theta) = 0\n",
    "\\end{equation}\n",
    "\n",
    "Usando diferencias finitas tenemos que\n",
    "\n",
    "\\begin{equation} \n",
    "   \\frac{t_{j-1,k} - 2 t_{j,k} + t_{j+1,k}}{(\\Delta r)^2} + \\frac{t_{j,k} - t_{j-1,k}}{r \\Delta r} + \\frac{t_{j,k-1} - 2 t_{j,k} + t_{j,k+1}}{r^2(\\Delta \\theta)^2} = 0\n",
    "\\end{equation}\n",
    "\n",
    "Distribuyendo para obtener los coeficientes de cada variable obtenemos\n",
    "\n",
    "1. $t_{j-1,k} = (\\Delta r)^{-2} - (r \\Delta r)^{-1}$\n",
    "2. $t_{j , k} = (r \\Delta r)^{-1} - 2(\\Delta r)^{-2} - 2(r^2(\\Delta\\theta)^2)^{-1}$\n",
    "3. $t_{j+1,k} = (\\Delta r)^{-2}$\n",
    "4. $t_{j,k-1} = (r^2 (\\Delta\\theta)^2)^{-1}$\n",
    "5. $t_{j,k+1} = (r^2 (\\Delta\\theta)^2)^{-1}$\n",
    "\n",
    "En total hay $(m+1) n$ puntos donde deberemos calcular la temperatura\n",
    "\n",
    "Entonces, tenemos el vector $x=(t_{0,0},\\dots,t_{0,n},t_{1,0},\\dots,t_{m+1,0},\\dots,t_{m+1,n})$. Si definimos la matriz $A$ de forma tal que al hacer $Ax=b$, resolvemos el sistema. Los $t_{0,k}$ y $t_{m+1,k}$ son conocidos, con $k=1,\\dots,n$\n",
    "\n",
    "\n",
    "Como $r, \\theta, \\Delta r, \\Delta \\theta$ son datos, los coeficientes son todos numericos ($r$ es el valor del radio en cada punto y $\\theta$ el angulo, pero no son incognitas, dependen del $j,k$)"
   ]
  },
  {
   "cell_type": "code",
   "execution_count": 5,
   "id": "04cf7b19-4e8a-4ccc-bfe6-aee213141f11",
   "metadata": {},
   "outputs": [],
   "source": [
    "for i in range(1, M_1_RADIUS-1):\n",
    "    for j in range(N_DEGREES):\n",
    "        r = RADIUSES[i]\n",
    "        # print(f\"{i}:{r} - {j}:{DEGREES[j]}\")\n",
    "        v = np.zeros((M_1_RADIUS,N_DEGREES))\n",
    "        \n",
    "        v[i-1][j] = (delta_r) ** -2 - (r * delta_r) ** -1\n",
    "        v[i][j] = (r * delta_r) ** -1 - 2 * (delta_r)**-2 - 2 * (r**2 * delta_g**2)**-1\n",
    "        v[i+1][j] = delta_r ** -2\n",
    "        tmp = (r**2 * delta_g**2) ** -1\n",
    "        v[i][j-1] = tmp\n",
    "        v[i][(j+1) % N_DEGREES] = tmp\n",
    "\n",
    "        A[i*N_DEGREES+j] = v.reshape(size)"
   ]
  },
  {
   "cell_type": "code",
   "execution_count": 6,
   "id": "1a2b1bd3-58c8-4e27-a3c3-1424fde8403f",
   "metadata": {},
   "outputs": [
    {
     "data": {
      "text/plain": [
       "(20, 20)"
      ]
     },
     "execution_count": 6,
     "metadata": {},
     "output_type": "execute_result"
    }
   ],
   "source": [
    "A.shape"
   ]
  },
  {
   "cell_type": "markdown",
   "id": "982e51df-4836-4178-ab63-0ba3ea64a794",
   "metadata": {},
   "source": [
    "Revisar esto porque nunc usamos las temperaturas exteriores"
   ]
  },
  {
   "cell_type": "code",
   "execution_count": 16,
   "id": "90d0a273-221a-4b22-b4ac-dc86a210ce04",
   "metadata": {},
   "outputs": [],
   "source": [
    "first = np.array([-A[N_DEGREES][0] * 1500 for i in range(N_DEGREES)])\n",
    "end = np.array([-delta_r**-2 * TEMP_EXT[i] for i in range(N_DEGREES)])\n",
    "b = np.concatenate([first, np.zeros(A.shape[0] - 4 * N_DEGREES), end])"
   ]
  },
  {
   "cell_type": "code",
   "execution_count": 17,
   "id": "a5a1f3d0-615e-4a8a-b66a-e1aa1b0ce405",
   "metadata": {},
   "outputs": [
    {
     "name": "stdout",
     "output_type": "stream",
     "text": [
      "[-36071.42857143 -36071.42857143 -36071.42857143 -36071.42857143\n",
      "      0.              0.              0.              0.\n",
      "  -3449.70727157  -3475.15307444  -3614.24265877  -3398.0944149 ]\n"
     ]
    }
   ],
   "source": [
    "print(b)"
   ]
  },
  {
   "cell_type": "code",
   "execution_count": 18,
   "id": "c707424b-37df-407d-abda-872ec58c3d7d",
   "metadata": {},
   "outputs": [],
   "source": [
    "total = len(A)\n",
    "App = pd.DataFrame(A).loc[N_DEGREES:total-N_DEGREES-1, N_DEGREES:total-N_DEGREES-1].to_numpy()"
   ]
  },
  {
   "cell_type": "code",
   "execution_count": 19,
   "id": "147bde0c-8dc9-4cf9-9fab-b5b256fceda1",
   "metadata": {},
   "outputs": [
    {
     "data": {
      "text/plain": [
       "(12, 12)"
      ]
     },
     "execution_count": 19,
     "metadata": {},
     "output_type": "execute_result"
    }
   ],
   "source": [
    "App.shape"
   ]
  },
  {
   "cell_type": "code",
   "execution_count": 20,
   "id": "f81820f9-4112-45f3-a8c3-7a56bc689c11",
   "metadata": {},
   "outputs": [],
   "source": [
    "x = np.linalg.solve(App, b)"
   ]
  },
  {
   "cell_type": "code",
   "execution_count": 21,
   "id": "e6f39373-dfe1-49c4-bdbf-625f1970dd1a",
   "metadata": {},
   "outputs": [
    {
     "data": {
      "text/plain": [
       "array([137.98829086, 139.00612298, 144.56970635, 135.9237766 ])"
      ]
     },
     "execution_count": 21,
     "metadata": {},
     "output_type": "execute_result"
    }
   ],
   "source": [
    "TEMP_EXT"
   ]
  },
  {
   "cell_type": "code",
   "execution_count": 22,
   "id": "47f0389a-77cf-4ec7-ac39-3b6aca9e26a6",
   "metadata": {},
   "outputs": [
    {
     "data": {
      "text/plain": [
       "array([1140.01397583, 1140.28500317, 1141.74871522, 1139.47255368,\n",
       "        793.74186401,  794.27273329,  797.1472981 ,  792.67782905,\n",
       "        460.06175107,  460.84147174,  465.08077738,  458.4908562 ])"
      ]
     },
     "execution_count": 22,
     "metadata": {},
     "output_type": "execute_result"
    }
   ],
   "source": [
    "x"
   ]
  }
 ],
 "metadata": {
  "kernelspec": {
   "display_name": "Python 3 (ipykernel)",
   "language": "python",
   "name": "python3"
  },
  "language_info": {
   "codemirror_mode": {
    "name": "ipython",
    "version": 3
   },
   "file_extension": ".py",
   "mimetype": "text/x-python",
   "name": "python",
   "nbconvert_exporter": "python",
   "pygments_lexer": "ipython3",
   "version": "3.9.6"
  }
 },
 "nbformat": 4,
 "nbformat_minor": 5
}
