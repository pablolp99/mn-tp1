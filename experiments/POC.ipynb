{
 "cells": [
  {
   "cell_type": "code",
   "execution_count": 1,
   "id": "05725836-8b53-4741-9f9f-ef5b162e7e2e",
   "metadata": {},
   "outputs": [],
   "source": [
    "import numpy as np\n",
    "import pandas as pd\n",
    "\n",
    "rs = np.random.RandomState(np.random.MT19937(np.random.SeedSequence(42)))\n",
    "\n",
    "# Input\n",
    "INTERNAL_RADIUS = 5.0\n",
    "EXTERNAL_RADIUS = 6.0\n",
    "M_1_RADIUS = 5 # 5\n",
    "N_DEGREES = 4 # 4\n",
    "ISOTERMA = 500\n",
    "TEMP_INT = np.array([1500 for i in range(N_DEGREES)])\n",
    "TEMP_EXT = np.random.normal(loc=150, scale=10, size=N_DEGREES)\n",
    "RADIUSES = np.linspace(INTERNAL_RADIUS, EXTERNAL_RADIUS, M_1_RADIUS+1)\n",
    "DEGREES = np.linspace(0.0, 2*np.pi, N_DEGREES)\n",
    "\n",
    "delta_r = (EXTERNAL_RADIUS - INTERNAL_RADIUS)/(M_1_RADIUS)\n",
    "delta_g = 2 * np.pi / N_DEGREES\n",
    "size = (M_1_RADIUS) * (N_DEGREES)"
   ]
  },
  {
   "cell_type": "markdown",
   "id": "3da5d6b6-8c04-493e-9182-baa1c17f8ec8",
   "metadata": {},
   "source": [
    "5 6 5 4 500 1\n",
    "1500 1500 1500 1500 160.8435309947052 162.42036793522266 159.59264334173378 144.6919884216488 "
   ]
  },
  {
   "cell_type": "code",
   "execution_count": 2,
   "id": "f823854e-aba8-4a89-a582-fb93793bdaf9",
   "metadata": {},
   "outputs": [
    {
     "data": {
      "text/plain": [
       "'142.65079644523905 145.27451252518858 164.55933389590336 161.25887207527623'"
      ]
     },
     "execution_count": 2,
     "metadata": {},
     "output_type": "execute_result"
    }
   ],
   "source": [
    "\" \".join(list(map(str, TEMP_EXT)))"
   ]
  },
  {
   "cell_type": "code",
   "execution_count": 3,
   "id": "8213f114-b56e-403a-b329-0fdc1bd26f4a",
   "metadata": {},
   "outputs": [
    {
     "data": {
      "text/plain": [
       "array([5. , 5.2, 5.4, 5.6, 5.8, 6. ])"
      ]
     },
     "execution_count": 3,
     "metadata": {},
     "output_type": "execute_result"
    }
   ],
   "source": [
    "RADIUSES"
   ]
  },
  {
   "cell_type": "code",
   "execution_count": 4,
   "id": "99cf854b-9175-4419-92f0-e7f000b90c35",
   "metadata": {},
   "outputs": [
    {
     "data": {
      "text/plain": [
       "0.2"
      ]
     },
     "execution_count": 4,
     "metadata": {},
     "output_type": "execute_result"
    }
   ],
   "source": [
    "delta_r"
   ]
  },
  {
   "cell_type": "code",
   "execution_count": 5,
   "id": "dcb894a9-2c3f-48cc-8195-e9ff16596cbe",
   "metadata": {},
   "outputs": [
    {
     "name": "stdout",
     "output_type": "stream",
     "text": [
      "5.0 6.0 5 4 500 1\n",
      "1500 1500 1500 1500 142.65079644523905 145.27451252518858 164.55933389590336 161.25887207527623\n"
     ]
    }
   ],
   "source": [
    "print(INTERNAL_RADIUS, EXTERNAL_RADIUS, M_1_RADIUS, N_DEGREES, ISOTERMA, 1)\n",
    "print(\" \".join(list(map(str, TEMP_INT))), \" \".join(list(map(str, TEMP_EXT))))"
   ]
  },
  {
   "cell_type": "code",
   "execution_count": 6,
   "id": "9208c04c-01d2-47c6-b405-965c4456026b",
   "metadata": {},
   "outputs": [
    {
     "data": {
      "text/plain": [
       "0.2"
      ]
     },
     "execution_count": 6,
     "metadata": {},
     "output_type": "execute_result"
    }
   ],
   "source": [
    "delta_r"
   ]
  },
  {
   "cell_type": "code",
   "execution_count": 7,
   "id": "7d8df704-f336-4f96-8dc9-e1ff55925dd5",
   "metadata": {},
   "outputs": [],
   "source": [
    "A = np.zeros((size, size))"
   ]
  },
  {
   "cell_type": "code",
   "execution_count": 8,
   "id": "884774a7-be3c-4812-93c4-ab0c43c12cb1",
   "metadata": {},
   "outputs": [
    {
     "data": {
      "text/plain": [
       "(20, 20)"
      ]
     },
     "execution_count": 8,
     "metadata": {},
     "output_type": "execute_result"
    }
   ],
   "source": [
    "A.shape"
   ]
  },
  {
   "cell_type": "markdown",
   "id": "1a0f3bbc-d391-49be-82fe-3fc04ceeb934",
   "metadata": {},
   "source": [
    "$$ A \\in \\mathcal{R}^{(m+1 * n) \\times (m+1 * n)} $$"
   ]
  },
  {
   "cell_type": "markdown",
   "id": "145f71fb-fbae-424c-a715-0bcfadbf1d05",
   "metadata": {},
   "source": [
    "La ecuacion que en el estacionario dice que\n",
    "\n",
    "\\begin{equation} \n",
    "   \\frac{\\partial^2 T}{\\partial r^2} (r, \\theta) + \\frac{\\partial T}{r \\partial r}(r, \\theta) + \\frac{\\partial^2 T}{r^2 \\partial \\theta^2}(r, \\theta) = 0\n",
    "\\end{equation}\n",
    "\n",
    "Usando diferencias finitas tenemos que\n",
    "\n",
    "\\begin{equation} \n",
    "   \\frac{t_{j-1,k} - 2 t_{j,k} + t_{j+1,k}}{(\\Delta r)^2} + \\frac{t_{j,k} - t_{j-1,k}}{r \\Delta r} + \\frac{t_{j,k-1} - 2 t_{j,k} + t_{j,k+1}}{r^2(\\Delta \\theta)^2} = 0\n",
    "\\end{equation}\n",
    "\n",
    "Distribuyendo para obtener los coeficientes de cada variable obtenemos\n",
    "\n",
    "1. $t_{j-1,k} = (\\Delta r)^{-2} - (r \\Delta r)^{-1}$\n",
    "2. $t_{j , k} = (r \\Delta r)^{-1} - 2(\\Delta r)^{-2} - 2(r^2(\\Delta\\theta)^2)^{-1}$\n",
    "3. $t_{j+1,k} = (\\Delta r)^{-2}$\n",
    "4. $t_{j,k-1} = (r^2 (\\Delta\\theta)^2)^{-1}$\n",
    "5. $t_{j,k+1} = (r^2 (\\Delta\\theta)^2)^{-1}$\n",
    "\n",
    "En total hay $(m+1) n$ puntos donde deberemos calcular la temperatura\n",
    "\n",
    "Entonces, tenemos el vector $x=(t_{0,0},\\dots,t_{0,n},t_{1,0},\\dots,t_{m+1,0},\\dots,t_{m+1,n})$. Si definimos la matriz $A$ de forma tal que al hacer $Ax=b$, resolvemos el sistema. Los $t_{0,k}$ y $t_{m+1,k}$ son conocidos, con $k=1,\\dots,n$\n",
    "\n",
    "\n",
    "Como $r, \\theta, \\Delta r, \\Delta \\theta$ son datos, los coeficientes son todos numericos ($r$ es el valor del radio en cada punto y $\\theta$ el angulo, pero no son incognitas, dependen del $j,k$)"
   ]
  },
  {
   "cell_type": "code",
   "execution_count": 9,
   "id": "04cf7b19-4e8a-4ccc-bfe6-aee213141f11",
   "metadata": {},
   "outputs": [],
   "source": [
    "for i in range(1, M_1_RADIUS-1):\n",
    "    for j in range(N_DEGREES):\n",
    "        r = RADIUSES[i]\n",
    "        # print(f\"{i}:{r} - {j}:{DEGREES[j]}\")\n",
    "        v = np.zeros((M_1_RADIUS,N_DEGREES))\n",
    "        \n",
    "        v[i-1][j] = (delta_r) ** -2 - (r * delta_r) ** -1\n",
    "        v[i][j] = (r * delta_r) ** -1 - 2 * (delta_r)**-2 - 2 * (r**2 * delta_g**2)**-1\n",
    "        v[i+1][j] = delta_r ** -2\n",
    "        tmp = (r**2 * delta_g**2) ** -1\n",
    "        \n",
    "        v[i][(j-1) % N_DEGREES] = tmp\n",
    "        v[i][(j+1) % N_DEGREES] = tmp\n",
    "\n",
    "        A[i*N_DEGREES+j] = v.reshape(size)"
   ]
  },
  {
   "cell_type": "code",
   "execution_count": 10,
   "id": "1a2b1bd3-58c8-4e27-a3c3-1424fde8403f",
   "metadata": {},
   "outputs": [
    {
     "data": {
      "text/plain": [
       "(20, 20)"
      ]
     },
     "execution_count": 10,
     "metadata": {},
     "output_type": "execute_result"
    }
   ],
   "source": [
    "A.shape"
   ]
  },
  {
   "cell_type": "markdown",
   "id": "982e51df-4836-4178-ab63-0ba3ea64a794",
   "metadata": {},
   "source": [
    "Revisar esto porque nunc usamos las temperaturas exteriores"
   ]
  },
  {
   "cell_type": "code",
   "execution_count": 11,
   "id": "90d0a273-221a-4b22-b4ac-dc86a210ce04",
   "metadata": {},
   "outputs": [],
   "source": [
    "first = np.array([-A[N_DEGREES][0] * 1500 for i in range(N_DEGREES)])\n",
    "end = np.array([-delta_r**-2 * TEMP_EXT[i] for i in range(N_DEGREES)])\n",
    "b = np.concatenate([first, np.zeros(A.shape[0] - 4 * N_DEGREES), end])"
   ]
  },
  {
   "cell_type": "code",
   "execution_count": 12,
   "id": "9b921613-2e4e-4a32-98ca-ad76c1ec7761",
   "metadata": {},
   "outputs": [
    {
     "data": {
      "text/plain": [
       "2970"
      ]
     },
     "execution_count": 12,
     "metadata": {},
     "output_type": "execute_result"
    }
   ],
   "source": [
    "(100 - 1) * (32 - 2)"
   ]
  },
  {
   "cell_type": "code",
   "execution_count": 13,
   "id": "c81ea7d3-5a32-406e-a0b0-185af6bca861",
   "metadata": {},
   "outputs": [
    {
     "data": {
      "text/plain": [
       "(12,)"
      ]
     },
     "execution_count": 13,
     "metadata": {},
     "output_type": "execute_result"
    }
   ],
   "source": [
    "b.shape"
   ]
  },
  {
   "cell_type": "code",
   "execution_count": 14,
   "id": "a5a1f3d0-615e-4a8a-b66a-e1aa1b0ce405",
   "metadata": {},
   "outputs": [
    {
     "name": "stdout",
     "output_type": "stream",
     "text": [
      "[-36057.69230769 -36057.69230769 -36057.69230769 -36057.69230769\n",
      "      0.              0.              0.              0.\n",
      "  -3566.26991113  -3631.86281313  -4113.9833474   -4031.47180188]\n"
     ]
    }
   ],
   "source": [
    "print(b)"
   ]
  },
  {
   "cell_type": "code",
   "execution_count": 15,
   "id": "d2974c61-9f9c-4c1d-abcb-03edd79bf657",
   "metadata": {},
   "outputs": [
    {
     "data": {
      "text/plain": [
       "(12,)"
      ]
     },
     "execution_count": 15,
     "metadata": {},
     "output_type": "execute_result"
    }
   ],
   "source": [
    "b.shape"
   ]
  },
  {
   "cell_type": "code",
   "execution_count": 16,
   "id": "c707424b-37df-407d-abda-872ec58c3d7d",
   "metadata": {},
   "outputs": [],
   "source": [
    "total = len(A)\n",
    "App = pd.DataFrame(A).loc[N_DEGREES:total-N_DEGREES-1, N_DEGREES:total-N_DEGREES-1].to_numpy()"
   ]
  },
  {
   "cell_type": "code",
   "execution_count": 22,
   "id": "2909be51-4cab-4fc0-92be-ec59c77c9884",
   "metadata": {},
   "outputs": [
    {
     "name": "stdout",
     "output_type": "stream",
     "text": [
      "-49.06843822001252 0.014988340775493752 0.0 0.014988340775493752 24.999999999999996 0.0 0.0 0.0 0.0 0.0 0.0 0.0\n",
      "0.014988340775493752 -49.06843822001252 0.014988340775493752 0.0 0.0 24.999999999999996 0.0 0.0 0.0 0.0 0.0 0.0\n",
      "0.0 0.014988340775493752 -49.06843822001252 0.014988340775493752 0.0 0.0 24.999999999999996 0.0 0.0 0.0 0.0 0.0\n",
      "0.014988340775493752 0.0 0.014988340775493752 -49.06843822001252 0.0 0.0 0.0 24.999999999999996 0.0 0.0 0.0 0.0\n",
      "24.07407407407407 0.0 0.0 0.0 -49.10187138097183 0.013898653448880352 0.0 0.013898653448880352 24.999999999999996 0.0 0.0 0.0\n",
      "0.0 24.07407407407407 0.0 0.0 0.013898653448880352 -49.10187138097183 0.013898653448880352 0.0 0.0 24.999999999999996 0.0 0.0\n",
      "0.0 0.0 24.07407407407407 0.0 0.0 0.013898653448880352 -49.10187138097183 0.013898653448880352 0.0 0.0 24.999999999999996 0.0\n",
      "0.0 0.0 0.0 24.07407407407407 0.013898653448880352 0.0 0.013898653448880352 -49.10187138097183 0.0 0.0 0.0 24.999999999999996\n",
      "0.0 0.0 0.0 0.0 24.107142857142854 0.0 0.0 0.0 -49.13299009786793 0.012923620362543084 0.0 0.012923620362543084\n",
      "0.0 0.0 0.0 0.0 0.0 24.107142857142854 0.0 0.0 0.012923620362543084 -49.13299009786793 0.012923620362543084 0.0\n",
      "0.0 0.0 0.0 0.0 0.0 0.0 24.107142857142854 0.0 0.0 0.012923620362543084 -49.13299009786793 0.012923620362543084\n",
      "0.0 0.0 0.0 0.0 0.0 0.0 0.0 24.107142857142854 0.012923620362543084 0.0 0.012923620362543084 -49.13299009786793\n"
     ]
    }
   ],
   "source": [
    "for i in range(len(App)):\n",
    "    print(\" \".join(list(map(lambda x: f\"{str(x)}\", App[i]))))"
   ]
  },
  {
   "cell_type": "code",
   "execution_count": 57,
   "id": "147bde0c-8dc9-4cf9-9fab-b5b256fceda1",
   "metadata": {},
   "outputs": [
    {
     "data": {
      "text/plain": [
       "(12, 12)"
      ]
     },
     "execution_count": 57,
     "metadata": {},
     "output_type": "execute_result"
    }
   ],
   "source": [
    "App.shape"
   ]
  },
  {
   "cell_type": "code",
   "execution_count": 58,
   "id": "1e14fb06-6b94-4d4d-b82c-5dc997ca1a14",
   "metadata": {},
   "outputs": [
    {
     "data": {
      "text/plain": [
       "array([ 1.49883408e-02, -4.90684382e+01,  1.49883408e-02,  0.00000000e+00,\n",
       "        0.00000000e+00,  2.50000000e+01,  0.00000000e+00,  0.00000000e+00,\n",
       "        0.00000000e+00,  0.00000000e+00,  0.00000000e+00,  0.00000000e+00])"
      ]
     },
     "execution_count": 58,
     "metadata": {},
     "output_type": "execute_result"
    }
   ],
   "source": [
    "App[1]"
   ]
  },
  {
   "cell_type": "code",
   "execution_count": 59,
   "id": "f81820f9-4112-45f3-a8c3-7a56bc689c11",
   "metadata": {},
   "outputs": [],
   "source": [
    "x = np.linalg.solve(App, b)"
   ]
  },
  {
   "cell_type": "code",
   "execution_count": 60,
   "id": "8618a077-871a-42de-97d1-09100360dc25",
   "metadata": {},
   "outputs": [
    {
     "data": {
      "text/plain": [
       "4"
      ]
     },
     "execution_count": 60,
     "metadata": {},
     "output_type": "execute_result"
    }
   ],
   "source": [
    "x[:N_DEGREES].__len__()"
   ]
  },
  {
   "cell_type": "code",
   "execution_count": 61,
   "id": "ace56b5d-041d-4ec5-8fbc-715849f8bb8d",
   "metadata": {},
   "outputs": [
    {
     "data": {
      "text/plain": [
       "794.0228972161976"
      ]
     },
     "execution_count": 61,
     "metadata": {},
     "output_type": "execute_result"
    }
   ],
   "source": [
    "x[4]"
   ]
  },
  {
   "cell_type": "code",
   "execution_count": 62,
   "id": "75d385c7-32c5-4a77-b83b-e0cecee70bcb",
   "metadata": {},
   "outputs": [
    {
     "data": {
      "text/plain": [
       "array([1140.0916716 , 1143.74134792, 1147.30531677, 1141.5693229 ,\n",
       "        794.02289722,  801.18500307,  808.1813893 ,  796.92188806,\n",
       "        460.76589142,  471.31602239,  481.62775659,  465.03452503])"
      ]
     },
     "execution_count": 62,
     "metadata": {},
     "output_type": "execute_result"
    }
   ],
   "source": [
    "x"
   ]
  },
  {
   "cell_type": "code",
   "execution_count": 63,
   "id": "751ccc11-92dd-4f01-b82c-35c37a38a57d",
   "metadata": {},
   "outputs": [
    {
     "data": {
      "text/plain": [
       "array([5. , 5.2, 5.4, 5.6, 5.8, 6. ])"
      ]
     },
     "execution_count": 63,
     "metadata": {},
     "output_type": "execute_result"
    }
   ],
   "source": [
    "RADIUSES"
   ]
  },
  {
   "cell_type": "code",
   "execution_count": 71,
   "id": "823cc680-fc3f-449d-b45e-1c1d94599638",
   "metadata": {},
   "outputs": [
    {
     "data": {
      "text/plain": [
       "array([1140.0916716 , 1143.74134792, 1147.30531677, 1141.5693229 ,\n",
       "        794.02289722,  801.18500307,  808.1813893 ,  796.92188806,\n",
       "        460.76589142,  471.31602239,  481.62775659,  465.03452503])"
      ]
     },
     "execution_count": 71,
     "metadata": {},
     "output_type": "execute_result"
    }
   ],
   "source": [
    "x"
   ]
  },
  {
   "cell_type": "code",
   "execution_count": 73,
   "id": "234e52df-deb9-4519-a919-e5ecaf8a06d8",
   "metadata": {},
   "outputs": [
    {
     "data": {
      "text/plain": [
       "460.76589141573527"
      ]
     },
     "execution_count": 73,
     "metadata": {},
     "output_type": "execute_result"
    }
   ],
   "source": [
    "x[(1+1) * 4 + 0]"
   ]
  },
  {
   "cell_type": "code",
   "execution_count": 69,
   "id": "6078be81-6b76-4f54-921f-10e6aa4634cd",
   "metadata": {},
   "outputs": [
    {
     "name": "stdout",
     "output_type": "stream",
     "text": [
      "0 5.0\n",
      "1 5.2\n",
      "2 5.4\n",
      "3 5.6\n",
      "4 5.8\n"
     ]
    }
   ],
   "source": [
    "for i in range(M_1_RADIUS):\n",
    "    print(i, INTERNAL_RADIUS + delta_r * i)"
   ]
  },
  {
   "cell_type": "code",
   "execution_count": 23,
   "id": "ceff2019-5436-496e-bf13-62759de647a4",
   "metadata": {},
   "outputs": [],
   "source": [
    "xx = x.reshape((int(x.shape[0] / N_DEGREES), N_DEGREES))"
   ]
  },
  {
   "cell_type": "code",
   "execution_count": 27,
   "id": "1fd14c60-5854-4c02-b7d7-2197590b20f6",
   "metadata": {},
   "outputs": [],
   "source": [
    "import scipy.linalg\n",
    "\n",
    "_,_, u = scipy.linalg.lu(App)\n",
    "# print(u)"
   ]
  }
 ],
 "metadata": {
  "kernelspec": {
   "display_name": "Python 3 (ipykernel)",
   "language": "python",
   "name": "python3"
  },
  "language_info": {
   "codemirror_mode": {
    "name": "ipython",
    "version": 3
   },
   "file_extension": ".py",
   "mimetype": "text/x-python",
   "name": "python",
   "nbconvert_exporter": "python",
   "pygments_lexer": "ipython3",
   "version": "3.9.6"
  }
 },
 "nbformat": 4,
 "nbformat_minor": 5
}
