{
 "cells": [
  {
   "cell_type": "code",
   "execution_count": 24,
   "id": "05725836-8b53-4741-9f9f-ef5b162e7e2e",
   "metadata": {},
   "outputs": [],
   "source": [
    "import numpy as np\n",
    "import pandas as pd\n",
    "\n",
    "rs = np.random.RandomState(np.random.MT19937(np.random.SeedSequence(42)))\n",
    "\n",
    "# Input\n",
    "INTERNAL_RADIUS = 5.0\n",
    "EXTERNAL_RADIUS = 6.5\n",
    "M_1_RADIUS = 20 # 5\n",
    "N_DEGREES = 4 # 4\n",
    "ISOTERMA = 500\n",
    "TEMP_INT = np.array([1500 for i in range(N_DEGREES)])\n",
    "TEMP_EXT = np.random.normal(loc=150, scale=10, size=N_DEGREES)\n",
    "RADIUSES = np.linspace(INTERNAL_RADIUS, EXTERNAL_RADIUS, M_1_RADIUS+1)\n",
    "DEGREES = np.linspace(0.0, 2*np.pi, N_DEGREES)\n",
    "\n",
    "delta_r = (EXTERNAL_RADIUS - INTERNAL_RADIUS)/(M_1_RADIUS)\n",
    "delta_g = 2 * np.pi / N_DEGREES\n",
    "size = (M_1_RADIUS) * (N_DEGREES)"
   ]
  },
  {
   "cell_type": "markdown",
   "id": "3da5d6b6-8c04-493e-9182-baa1c17f8ec8",
   "metadata": {},
   "source": [
    "5 6 5 4 500 1\n",
    "1500 1500 1500 1500 160.8435309947052 162.42036793522266 159.59264334173378 144.6919884216488 "
   ]
  },
  {
   "cell_type": "code",
   "execution_count": 25,
   "id": "99cf854b-9175-4419-92f0-e7f000b90c35",
   "metadata": {},
   "outputs": [
    {
     "data": {
      "text/plain": [
       "0.075"
      ]
     },
     "execution_count": 25,
     "metadata": {},
     "output_type": "execute_result"
    }
   ],
   "source": [
    "delta_r"
   ]
  },
  {
   "cell_type": "code",
   "execution_count": 26,
   "id": "8b18385e-3c06-47fe-ab40-d0ef55209d34",
   "metadata": {},
   "outputs": [],
   "source": [
    "radiuses = [INTERNAL_RADIUS + i * delta_r for i in range(M_1_RADIUS+1)]"
   ]
  },
  {
   "cell_type": "code",
   "execution_count": 27,
   "id": "0a468e2f-6eb0-4968-b4c7-3fb8b796ef05",
   "metadata": {},
   "outputs": [
    {
     "data": {
      "text/plain": [
       "array([5.   , 5.075, 5.15 , 5.225, 5.3  , 5.375, 5.45 , 5.525, 5.6  ,\n",
       "       5.675, 5.75 , 5.825, 5.9  , 5.975, 6.05 , 6.125, 6.2  , 6.275,\n",
       "       6.35 , 6.425, 6.5  ])"
      ]
     },
     "execution_count": 27,
     "metadata": {},
     "output_type": "execute_result"
    }
   ],
   "source": [
    "RADIUSES"
   ]
  },
  {
   "cell_type": "code",
   "execution_count": 28,
   "id": "33172a37-bdbc-4693-a591-4dd9fc708b3f",
   "metadata": {},
   "outputs": [
    {
     "data": {
      "text/plain": [
       "[5.0,\n",
       " 5.075,\n",
       " 5.15,\n",
       " 5.225,\n",
       " 5.3,\n",
       " 5.375,\n",
       " 5.45,\n",
       " 5.525,\n",
       " 5.6,\n",
       " 5.675,\n",
       " 5.75,\n",
       " 5.825,\n",
       " 5.9,\n",
       " 5.975,\n",
       " 6.05,\n",
       " 6.125,\n",
       " 6.2,\n",
       " 6.275,\n",
       " 6.35,\n",
       " 6.425,\n",
       " 6.5]"
      ]
     },
     "execution_count": 28,
     "metadata": {},
     "output_type": "execute_result"
    }
   ],
   "source": [
    "radiuses"
   ]
  },
  {
   "cell_type": "code",
   "execution_count": 3,
   "id": "38db1e05-1f51-41cb-8c30-f765e12eaa8a",
   "metadata": {},
   "outputs": [
    {
     "data": {
      "text/plain": [
       "(20, 20)"
      ]
     },
     "execution_count": 3,
     "metadata": {},
     "output_type": "execute_result"
    }
   ],
   "source": [
    "A = np.zeros((size, size))\n",
    "\n",
    "A.shape"
   ]
  },
  {
   "cell_type": "markdown",
   "id": "1a0f3bbc-d391-49be-82fe-3fc04ceeb934",
   "metadata": {},
   "source": [
    "$$ A \\in \\mathcal{R}^{(m+1 * n) \\times (m+1 * n)} $$"
   ]
  },
  {
   "cell_type": "markdown",
   "id": "145f71fb-fbae-424c-a715-0bcfadbf1d05",
   "metadata": {},
   "source": [
    "La ecuacion que en el estacionario dice que\n",
    "\n",
    "\\begin{equation} \n",
    "   \\frac{\\partial^2 T}{\\partial r^2} (r, \\theta) + \\frac{\\partial T}{r \\partial r}(r, \\theta) + \\frac{\\partial^2 T}{r^2 \\partial \\theta^2}(r, \\theta) = 0\n",
    "\\end{equation}\n",
    "\n",
    "Usando diferencias finitas tenemos que\n",
    "\n",
    "\\begin{equation} \n",
    "   \\frac{t_{j-1,k} - 2 t_{j,k} + t_{j+1,k}}{(\\Delta r)^2} + \\frac{t_{j,k} - t_{j-1,k}}{r \\Delta r} + \\frac{t_{j,k-1} - 2 t_{j,k} + t_{j,k+1}}{r^2(\\Delta \\theta)^2} = 0\n",
    "\\end{equation}\n",
    "\n",
    "Distribuyendo para obtener los coeficientes de cada variable obtenemos\n",
    "\n",
    "1. $t_{j-1,k} = (\\Delta r)^{-2} - (r \\Delta r)^{-1}$\n",
    "2. $t_{j , k} = (r \\Delta r)^{-1} - 2(\\Delta r)^{-2} - 2(r^2(\\Delta\\theta)^2)^{-1}$\n",
    "3. $t_{j+1,k} = (\\Delta r)^{-2}$\n",
    "4. $t_{j,k-1} = (r^2 (\\Delta\\theta)^2)^{-1}$\n",
    "5. $t_{j,k+1} = (r^2 (\\Delta\\theta)^2)^{-1}$\n",
    "\n",
    "En total hay $(m+1) n$ puntos donde deberemos calcular la temperatura\n",
    "\n",
    "Entonces, tenemos el vector $x=(t_{0,0},\\dots,t_{0,n},t_{1,0},\\dots,t_{m+1,0},\\dots,t_{m+1,n})$. Si definimos la matriz $A$ de forma tal que al hacer $Ax=b$, resolvemos el sistema. Los $t_{0,k}$ y $t_{m+1,k}$ son conocidos, con $k=1,\\dots,n$\n",
    "\n",
    "\n",
    "Como $r, \\theta, \\Delta r, \\Delta \\theta$ son datos, los coeficientes son todos numericos ($r$ es el valor del radio en cada punto y $\\theta$ el angulo, pero no son incognitas, dependen del $j,k$)"
   ]
  },
  {
   "cell_type": "code",
   "execution_count": 4,
   "id": "04cf7b19-4e8a-4ccc-bfe6-aee213141f11",
   "metadata": {},
   "outputs": [],
   "source": [
    "for i in range(1, M_1_RADIUS-1):\n",
    "    for j in range(N_DEGREES):\n",
    "        r = RADIUSES[i]\n",
    "        # print(f\"{i}:{r} - {j}:{DEGREES[j]}\")\n",
    "        v = np.zeros((M_1_RADIUS,N_DEGREES))\n",
    "        \n",
    "        v[i-1][j] = (delta_r) ** -2 - (r * delta_r) ** -1\n",
    "        v[i][j] = (r * delta_r) ** -1 - 2 * (delta_r)**-2 - 2 * (r**2 * delta_g**2)**-1\n",
    "        v[i+1][j] = delta_r ** -2\n",
    "        tmp = (r**2 * delta_g**2) ** -1\n",
    "        \n",
    "        v[i][(j-1) % N_DEGREES] = tmp\n",
    "        v[i][(j+1) % N_DEGREES] = tmp\n",
    "\n",
    "        A[i*N_DEGREES+j] = v.reshape(size)"
   ]
  },
  {
   "cell_type": "code",
   "execution_count": 5,
   "id": "90d0a273-221a-4b22-b4ac-dc86a210ce04",
   "metadata": {},
   "outputs": [],
   "source": [
    "first = np.array([-A[N_DEGREES][0] * 1500 for i in range(N_DEGREES)])\n",
    "end = np.array([-delta_r**-2 * TEMP_EXT[i] for i in range(N_DEGREES)])\n",
    "b = np.concatenate([first, np.zeros(A.shape[0] - 4 * N_DEGREES), end])"
   ]
  },
  {
   "cell_type": "code",
   "execution_count": 6,
   "id": "c81ea7d3-5a32-406e-a0b0-185af6bca861",
   "metadata": {},
   "outputs": [
    {
     "data": {
      "text/plain": [
       "(12,)"
      ]
     },
     "execution_count": 6,
     "metadata": {},
     "output_type": "execute_result"
    }
   ],
   "source": [
    "b.shape"
   ]
  },
  {
   "cell_type": "code",
   "execution_count": 7,
   "id": "c707424b-37df-407d-abda-872ec58c3d7d",
   "metadata": {},
   "outputs": [],
   "source": [
    "total = len(A)\n",
    "App = pd.DataFrame(A).loc[N_DEGREES:total-N_DEGREES-1, N_DEGREES:total-N_DEGREES-1].to_numpy()"
   ]
  },
  {
   "cell_type": "code",
   "execution_count": 8,
   "id": "147bde0c-8dc9-4cf9-9fab-b5b256fceda1",
   "metadata": {},
   "outputs": [
    {
     "data": {
      "text/plain": [
       "(12, 12)"
      ]
     },
     "execution_count": 8,
     "metadata": {},
     "output_type": "execute_result"
    }
   ],
   "source": [
    "App.shape"
   ]
  },
  {
   "cell_type": "code",
   "execution_count": 9,
   "id": "f81820f9-4112-45f3-a8c3-7a56bc689c11",
   "metadata": {},
   "outputs": [],
   "source": [
    "x = np.linalg.solve(App, b)"
   ]
  },
  {
   "cell_type": "code",
   "execution_count": 10,
   "id": "75d385c7-32c5-4a77-b83b-e0cecee70bcb",
   "metadata": {},
   "outputs": [
    {
     "data": {
      "text/plain": [
       "array([1143.92005744, 1142.56459792, 1142.90319533, 1140.97999607,\n",
       "        801.5380726 ,  798.87569567,  799.54223917,  795.76553815,\n",
       "        471.84159137,  467.91416131,  468.90082567,  463.33149203])"
      ]
     },
     "execution_count": 10,
     "metadata": {},
     "output_type": "execute_result"
    }
   ],
   "source": [
    "x"
   ]
  },
  {
   "cell_type": "code",
   "execution_count": 11,
   "id": "810e57c6-a6a0-421b-bf9c-77a2bcc6a3fd",
   "metadata": {},
   "outputs": [
    {
     "data": {
      "text/plain": [
       "5.836867206714859"
      ]
     },
     "execution_count": 11,
     "metadata": {},
     "output_type": "execute_result"
    }
   ],
   "source": [
    "np.linalg.cond(App)"
   ]
  }
 ],
 "metadata": {
  "kernelspec": {
   "display_name": "Python 3 (ipykernel)",
   "language": "python",
   "name": "python3"
  },
  "language_info": {
   "codemirror_mode": {
    "name": "ipython",
    "version": 3
   },
   "file_extension": ".py",
   "mimetype": "text/x-python",
   "name": "python",
   "nbconvert_exporter": "python",
   "pygments_lexer": "ipython3",
   "version": "3.9.6"
  }
 },
 "nbformat": 4,
 "nbformat_minor": 5
}
