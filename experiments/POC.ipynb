{
 "cells": [
  {
   "cell_type": "code",
   "execution_count": 1,
   "id": "5a899e19-f474-4768-bcc7-e059ff033f35",
   "metadata": {},
   "outputs": [],
   "source": [
    "import numpy as np\n",
    "import pandas as pd"
   ]
  },
  {
   "cell_type": "code",
   "execution_count": 18,
   "id": "df428f54-62f8-4499-9f93-4227655b7a2a",
   "metadata": {},
   "outputs": [],
   "source": [
    "# Input\n",
    "INTERNAL_RADIUS = 5.0\n",
    "EXTERNAL_RADIUS = 6.0\n",
    "M_1_RADIUS = 15 # 5\n",
    "N_DEGREES = 16 # 4\n",
    "ISOTERMA = 500\n",
    "TEMP_INT = np.array([1500 for i in range(N_DEGREES)])\n",
    "TEMP_EXT = np.random.normal(loc=150, scale=10, size=N_DEGREES)\n",
    "RADIUSES = np.linspace(INTERNAL_RADIUS, EXTERNAL_RADIUS, M_1_RADIUS)\n",
    "DEGREES = np.linspace(0.0, 2*np.pi, N_DEGREES)\n",
    "\n",
    "delta_r = (EXTERNAL_RADIUS - INTERNAL_RADIUS)/(M_1_RADIUS)\n",
    "delta_g = 2 * np.pi / N_DEGREES\n",
    "size = (M_1_RADIUS) * (N_DEGREES)"
   ]
  },
  {
   "cell_type": "markdown",
   "id": "3da5d6b6-8c04-493e-9182-baa1c17f8ec8",
   "metadata": {},
   "source": [
    "5 6 5 4 500 1"
   ]
  },
  {
   "cell_type": "code",
   "execution_count": 19,
   "id": "9208c04c-01d2-47c6-b405-965c4456026b",
   "metadata": {},
   "outputs": [
    {
     "data": {
      "text/plain": [
       "0.06666666666666667"
      ]
     },
     "execution_count": 19,
     "metadata": {},
     "output_type": "execute_result"
    }
   ],
   "source": [
    "delta_r"
   ]
  },
  {
   "cell_type": "code",
   "execution_count": 20,
   "id": "7d8df704-f336-4f96-8dc9-e1ff55925dd5",
   "metadata": {},
   "outputs": [],
   "source": [
    "A = np.zeros((size, size))"
   ]
  },
  {
   "cell_type": "markdown",
   "id": "145f71fb-fbae-424c-a715-0bcfadbf1d05",
   "metadata": {},
   "source": [
    "La ecuacion que en el estacionario dice que\n",
    "\n",
    "\\begin{equation} \n",
    "   \\frac{\\partial^2 T}{\\partial r^2} (r, \\theta) + \\frac{\\partial T}{r \\partial r}(r, \\theta) + \\frac{\\partial^2 T}{r^2 \\partial \\theta^2}(r, \\theta) = 0\n",
    "\\end{equation}\n",
    "\n",
    "Usando diferencias finitas tenemos que\n",
    "\n",
    "\\begin{equation} \n",
    "   \\frac{t_{j-1,k} - 2 t_{j,k} + t_{j+1,k}}{(\\Delta r)^2} + \\frac{t_{j,k} - t_{j-1,k}}{r \\Delta r} + \\frac{t_{j,k-1} - 2 t_{j,k} + t_{j,k+1}}{r^2(\\Delta \\theta)^2} = 0\n",
    "\\end{equation}\n",
    "\n",
    "Distribuyendo para obtener los coeficientes de cada variable obtenemos\n",
    "\n",
    "1. $t_{j-1,k} = (\\Delta r)^{-2} - (r \\Delta r)^{-1}$\n",
    "2. $t_{j , k} = (r \\Delta r)^{-1} - 2(\\Delta r)^{-2} - 2(r^2(\\Delta\\theta)^2)^{-1}$\n",
    "3. $t_{j+1,k} = (\\Delta r)^{-2}$\n",
    "4. $t_{j,k-1} = (r^2 (\\Delta\\theta)^2)^{-1}$\n",
    "5. $t_{j,k+1} = (r^2 (\\Delta\\theta)^2)^{-1}$\n",
    "\n",
    "En total hay $(m+1) n$ puntos donde deberemos calcular la temperatura\n",
    "\n",
    "Entonces, tenemos el vector $x=(t_{0,0},\\dots,t_{0,n},t_{1,0},\\dots,t_{m+1,0},\\dots,t_{m+1,n})$. Si definimos la matriz $A$ de forma tal que al hacer $Ax=b$, resolvemos el sistema. Los $t_{0,k}$ y $t_{m+1,k}$ son conocidos, con $k=1,\\dots,n$\n",
    "\n",
    "\n",
    "Como $r, \\theta, \\Delta r, \\Delta \\theta$ son datos, los coeficientes son todos numericos ($r$ es el valor del radio en cada punto y $\\theta$ el angulo, pero no son incognitas, dependen del $j,k$)"
   ]
  },
  {
   "cell_type": "code",
   "execution_count": 21,
   "id": "04cf7b19-4e8a-4ccc-bfe6-aee213141f11",
   "metadata": {},
   "outputs": [],
   "source": [
    "for i in range(1, M_1_RADIUS-1):\n",
    "    for j in range(N_DEGREES):\n",
    "        r = RADIUSES[i]\n",
    "        # print(f\"{i}:{r} - {j}:{DEGREES[j]}\")\n",
    "        v = np.zeros((M_1_RADIUS,N_DEGREES))\n",
    "        \n",
    "        v[i-1][j] = (delta_r) ** -2 - (r * delta_r) ** -1\n",
    "        v[i][j] = (r * delta_r) ** -1 - 2 * (delta_r)**-2 - 2 * (r**2 * delta_g**2)**-1\n",
    "        v[i+1][j] = delta_r ** -2\n",
    "        tmp = (r**2 * delta_g**2) ** -1\n",
    "        v[i][j-1] = tmp\n",
    "        v[i][(j+1) % N_DEGREES] = tmp\n",
    "\n",
    "        A[i*N_DEGREES+j] = v.reshape(size)"
   ]
  },
  {
   "cell_type": "code",
   "execution_count": 22,
   "id": "1a2b1bd3-58c8-4e27-a3c3-1424fde8403f",
   "metadata": {},
   "outputs": [
    {
     "data": {
      "text/plain": [
       "(240, 240)"
      ]
     },
     "execution_count": 22,
     "metadata": {},
     "output_type": "execute_result"
    }
   ],
   "source": [
    "A.shape"
   ]
  },
  {
   "cell_type": "code",
   "execution_count": 40,
   "id": "90d0a273-221a-4b22-b4ac-dc86a210ce04",
   "metadata": {},
   "outputs": [],
   "source": [
    "first = np.array([-A[N_DEGREES][0] * 1500 for i in range(N_DEGREES)])\n",
    "end = np.array([-delta_r**-2 for i in range(N_DEGREES)])\n",
    "b = np.concatenate([first, np.zeros(A.shape[0] - 4 * N_DEGREES), end])"
   ]
  },
  {
   "cell_type": "code",
   "execution_count": 41,
   "id": "73a1a6ae-f227-4eee-b44c-00e811fccf8c",
   "metadata": {},
   "outputs": [
    {
     "data": {
      "text/plain": [
       "(16,)"
      ]
     },
     "execution_count": 41,
     "metadata": {},
     "output_type": "execute_result"
    }
   ],
   "source": [
    "first.shape"
   ]
  },
  {
   "cell_type": "code",
   "execution_count": 42,
   "id": "fe3e4190-d9f6-45a4-a7e1-f7ddeba24d65",
   "metadata": {},
   "outputs": [
    {
     "data": {
      "text/plain": [
       "(208,)"
      ]
     },
     "execution_count": 42,
     "metadata": {},
     "output_type": "execute_result"
    }
   ],
   "source": [
    "b.shape"
   ]
  },
  {
   "cell_type": "code",
   "execution_count": 37,
   "id": "c707424b-37df-407d-abda-872ec58c3d7d",
   "metadata": {},
   "outputs": [],
   "source": [
    "total = len(A)\n",
    "App = pd.DataFrame(A).loc[N_DEGREES:total-N_DEGREES-1, N_DEGREES:total-N_DEGREES-1].to_numpy()"
   ]
  },
  {
   "cell_type": "code",
   "execution_count": 43,
   "id": "147bde0c-8dc9-4cf9-9fab-b5b256fceda1",
   "metadata": {},
   "outputs": [
    {
     "data": {
      "text/plain": [
       "(208, 208)"
      ]
     },
     "execution_count": 43,
     "metadata": {},
     "output_type": "execute_result"
    }
   ],
   "source": [
    "App.shape"
   ]
  },
  {
   "cell_type": "code",
   "execution_count": 44,
   "id": "f81820f9-4112-45f3-a8c3-7a56bc689c11",
   "metadata": {},
   "outputs": [],
   "source": [
    "x = np.linalg.solve(App, b)"
   ]
  },
  {
   "cell_type": "code",
   "execution_count": 45,
   "id": "09dbbb71-c132-4ef2-8bd4-7111868f7297",
   "metadata": {},
   "outputs": [
    {
     "data": {
      "text/plain": [
       "array([1383.97308476, 1383.97308476, 1383.97308476, 1383.97308476,\n",
       "       1383.97308476, 1383.97308476, 1383.97308476, 1383.97308476,\n",
       "       1383.97308476, 1383.97308476, 1383.97308476, 1383.97308476,\n",
       "       1383.97308476, 1383.97308476, 1383.97308476, 1383.97308476,\n",
       "       1269.47140596, 1269.47140596, 1269.47140596, 1269.47140596,\n",
       "       1269.47140596, 1269.47140596, 1269.47140596, 1269.47140596,\n",
       "       1269.47140596, 1269.47140596, 1269.47140596, 1269.47140596,\n",
       "       1269.47140596, 1269.47140596, 1269.47140596, 1269.47140596,\n",
       "       1156.45400819, 1156.45400819, 1156.45400819, 1156.45400819,\n",
       "       1156.45400819, 1156.45400819, 1156.45400819, 1156.45400819,\n",
       "       1156.45400819, 1156.45400819, 1156.45400819, 1156.45400819,\n",
       "       1156.45400819, 1156.45400819, 1156.45400819, 1156.45400819,\n",
       "       1044.88158171, 1044.88158171, 1044.88158171, 1044.88158171,\n",
       "       1044.88158171, 1044.88158171, 1044.88158171, 1044.88158171,\n",
       "       1044.88158171, 1044.88158171, 1044.88158171, 1044.88158171,\n",
       "       1044.88158171, 1044.88158171, 1044.88158171, 1044.88158171,\n",
       "        934.71637502,  934.71637502,  934.71637502,  934.71637502,\n",
       "        934.71637502,  934.71637502,  934.71637502,  934.71637502,\n",
       "        934.71637502,  934.71637502,  934.71637502,  934.71637502,\n",
       "        934.71637502,  934.71637502,  934.71637502,  934.71637502,\n",
       "        825.92211313,  825.92211313,  825.92211313,  825.92211313,\n",
       "        825.92211313,  825.92211313,  825.92211313,  825.92211313,\n",
       "        825.92211313,  825.92211313,  825.92211313,  825.92211313,\n",
       "        825.92211313,  825.92211313,  825.92211313,  825.92211313,\n",
       "        718.46392112,  718.46392112,  718.46392112,  718.46392112,\n",
       "        718.46392112,  718.46392112,  718.46392112,  718.46392112,\n",
       "        718.46392112,  718.46392112,  718.46392112,  718.46392112,\n",
       "        718.46392112,  718.46392112,  718.46392112,  718.46392112,\n",
       "        612.30825266,  612.30825266,  612.30825266,  612.30825266,\n",
       "        612.30825266,  612.30825266,  612.30825266,  612.30825266,\n",
       "        612.30825266,  612.30825266,  612.30825266,  612.30825266,\n",
       "        612.30825266,  612.30825266,  612.30825266,  612.30825266,\n",
       "        507.42282295,  507.42282295,  507.42282295,  507.42282295,\n",
       "        507.42282295,  507.42282295,  507.42282295,  507.42282295,\n",
       "        507.42282295,  507.42282295,  507.42282295,  507.42282295,\n",
       "        507.42282295,  507.42282295,  507.42282295,  507.42282295,\n",
       "        403.77654601,  403.77654601,  403.77654601,  403.77654601,\n",
       "        403.77654601,  403.77654601,  403.77654601,  403.77654601,\n",
       "        403.77654601,  403.77654601,  403.77654601,  403.77654601,\n",
       "        403.77654601,  403.77654601,  403.77654601,  403.77654601,\n",
       "        301.33947563,  301.33947563,  301.33947563,  301.33947563,\n",
       "        301.33947563,  301.33947563,  301.33947563,  301.33947563,\n",
       "        301.33947563,  301.33947563,  301.33947563,  301.33947563,\n",
       "        301.33947563,  301.33947563,  301.33947563,  301.33947563,\n",
       "        200.08275009,  200.08275009,  200.08275009,  200.08275009,\n",
       "        200.08275009,  200.08275009,  200.08275009,  200.08275009,\n",
       "        200.08275009,  200.08275009,  200.08275009,  200.08275009,\n",
       "        200.08275009,  200.08275009,  200.08275009,  200.08275009,\n",
       "         99.97854013,   99.97854013,   99.97854013,   99.97854013,\n",
       "         99.97854013,   99.97854013,   99.97854013,   99.97854013,\n",
       "         99.97854013,   99.97854013,   99.97854013,   99.97854013,\n",
       "         99.97854013,   99.97854013,   99.97854013,   99.97854013])"
      ]
     },
     "execution_count": 45,
     "metadata": {},
     "output_type": "execute_result"
    }
   ],
   "source": [
    "x"
   ]
  }
 ],
 "metadata": {
  "kernelspec": {
   "display_name": "Python 3 (ipykernel)",
   "language": "python",
   "name": "python3"
  },
  "language_info": {
   "codemirror_mode": {
    "name": "ipython",
    "version": 3
   },
   "file_extension": ".py",
   "mimetype": "text/x-python",
   "name": "python",
   "nbconvert_exporter": "python",
   "pygments_lexer": "ipython3",
   "version": "3.9.6"
  }
 },
 "nbformat": 4,
 "nbformat_minor": 5
}
