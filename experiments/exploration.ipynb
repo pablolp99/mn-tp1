{
 "cells": [
  {
   "cell_type": "code",
   "execution_count": 1,
   "id": "fbecf3b5-2cfc-45b8-acc8-b67c2f2eff5b",
   "metadata": {},
   "outputs": [],
   "source": [
    "import numpy as np\n",
    "import pandas as pd\n",
    "\n",
    "from pathlib import Path\n",
    "import yaml\n",
    "\n",
    "def create_instances(config, fixed_temp=None):\n",
    "    print(config[\"INTERNAL_RADIUS\"],config[\"EXTERNAL_RADIUS\"],config[\"M_1_RADIUS\"],config[\"N_DEGREES\"],config[\"ISOTERMA\"],config[\"INSTANCES\"])\n",
    "    \n",
    "    for _ in range(config[\"INSTANCES\"]):\n",
    "        external_temp = [config[\"EXT_TEMP\"] for _ in range(config[\"N_DEGREES\"])]\n",
    "        if fixed_temp is not None:\n",
    "            internal_temps = [fixed_temp for _ in range(config[\"N_DEGREES\"])]\n",
    "        else:\n",
    "            internal_temps = np.random.uniform(low=config[\"INT_LOW\"], high=config[\"INT_HIGH\"], size=config[\"N_DEGREES\"])\n",
    "        print(\" \".join(list(map(str, external_temp))), \" \".join(list(map(str, internal_temps))))\n",
    "\n",
    "def calculate_coefs(\n",
    "    m_1,\n",
    "    n_deg,\n",
    "    r_i,\n",
    "    r_e,\n",
    "):\n",
    "    size = (m_1) * (n_deg)\n",
    "    A = np.zeros((size, size))\n",
    "    d_r = (r_e - r_i)/(m_1)\n",
    "    d_g = 2 * np.pi / n_deg\n",
    "    for i in range(1, m_1-1):\n",
    "        for j in range(n_deg):\n",
    "            r = r_i + d_r * i;\n",
    "            v = np.zeros((m_1,n_deg))\n",
    "\n",
    "            v[i-1][j] = (d_r) ** -2 - (r * d_r) ** -1\n",
    "            v[i][j] = (r * d_r) ** -1 - 2 * (d_r)**-2 - 2 * (r**2 * d_g**2)**-1\n",
    "            v[i+1][j] = d_r ** -2\n",
    "            tmp = (r**2 * d_g**2) ** -1\n",
    "\n",
    "            v[i][(j-1) % n_deg] = tmp\n",
    "            v[i][(j+1) % n_deg] = tmp\n",
    "\n",
    "            A[i*n_deg+j] = v.reshape(size)\n",
    "    total = len(A)\n",
    "    App = pd.DataFrame(A).loc[n_deg:total-n_deg-1, n_deg:total-n_deg-1].to_numpy()\n",
    "    return App"
   ]
  },
  {
   "cell_type": "code",
   "execution_count": null,
   "id": "edaf93a6-c140-4106-9374-856ffc5e8882",
   "metadata": {},
   "outputs": [],
   "source": [
    "# Read config\n",
    "conf = yaml.safe_load(Path('config.yml').read_text())\n",
    "create_instances(conf, fixed_temp=175)"
   ]
  },
  {
   "cell_type": "code",
   "execution_count": 4,
   "id": "2abc640a-2bef-4cd3-9062-68bce23f7ca2",
   "metadata": {},
   "outputs": [
    {
     "data": {
      "text/plain": [
       "68719476736"
      ]
     },
     "execution_count": 4,
     "metadata": {},
     "output_type": "execute_result"
    }
   ],
   "source": [
    "68719476736"
   ]
  },
  {
   "cell_type": "code",
   "execution_count": 8,
   "id": "650b9f53-9867-442b-a9af-6585b118d99e",
   "metadata": {},
   "outputs": [
    {
     "data": {
      "text/plain": [
       "64.0"
      ]
     },
     "execution_count": 8,
     "metadata": {},
     "output_type": "execute_result"
    }
   ],
   "source": [
    "(128*128)**3 / 68719476736"
   ]
  }
 ],
 "metadata": {
  "kernelspec": {
   "display_name": "Python 3 (ipykernel)",
   "language": "python",
   "name": "python3"
  },
  "language_info": {
   "codemirror_mode": {
    "name": "ipython",
    "version": 3
   },
   "file_extension": ".py",
   "mimetype": "text/x-python",
   "name": "python",
   "nbconvert_exporter": "python",
   "pygments_lexer": "ipython3",
   "version": "3.9.6"
  }
 },
 "nbformat": 4,
 "nbformat_minor": 5
}
