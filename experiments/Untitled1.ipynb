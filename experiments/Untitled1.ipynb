{
 "cells": [
  {
   "cell_type": "code",
   "execution_count": 2,
   "id": "3eed1817-4709-4394-a638-d6dff78b69a5",
   "metadata": {},
   "outputs": [],
   "source": [
    "import numpy as np\n",
    "import pandas as pd\n",
    "import seaborn as sns\n",
    "from scipy.interpolate import interp1d\n",
    "import matplotlib.pyplot as plt\n",
    "from glob import glob\n",
    "from sklearn.metrics import mean_squared_error, mean_absolute_percentage_error\n",
    "\n",
    "from matplotlib import rcParams\n",
    "# figure size in inches\n",
    "rcParams['figure.figsize'] = 12,8\n",
    "plt.rcParams.update({'font.size': 13})\n",
    "\n",
    "NANOSECOND = 1e-9"
   ]
  },
  {
   "cell_type": "code",
   "execution_count": 7,
   "id": "c355ed62-a89e-4e72-b0cc-110d269ecdf1",
   "metadata": {},
   "outputs": [],
   "source": [
    "lu_times = glob(\"../outputs/test2/exp2_times/*LU*.time\")\n",
    "eg_times = glob(\"../outputs/test2/exp2_times/*EG*.time\")"
   ]
  },
  {
   "cell_type": "code",
   "execution_count": 13,
   "id": "f9517a43-354b-4ced-b07d-f2c76598e1d6",
   "metadata": {},
   "outputs": [
    {
     "data": {
      "text/plain": [
       "['../outputs/test2/exp2_times/16_16_10_LU.time',\n",
       " '../outputs/test2/exp2_times/16_16_15_LU.time',\n",
       " '../outputs/test2/exp2_times/16_16_1_LU.time',\n",
       " '../outputs/test2/exp2_times/16_16_20_LU.time',\n",
       " '../outputs/test2/exp2_times/16_16_25_LU.time',\n",
       " '../outputs/test2/exp2_times/16_16_2_LU.time',\n",
       " '../outputs/test2/exp2_times/16_16_30_LU.time',\n",
       " '../outputs/test2/exp2_times/16_16_35_LU.time',\n",
       " '../outputs/test2/exp2_times/16_16_3_LU.time',\n",
       " '../outputs/test2/exp2_times/16_16_40_LU.time',\n",
       " '../outputs/test2/exp2_times/16_16_45_LU.time',\n",
       " '../outputs/test2/exp2_times/16_16_4_LU.time',\n",
       " '../outputs/test2/exp2_times/16_16_50_LU.time',\n",
       " '../outputs/test2/exp2_times/16_16_55_LU.time',\n",
       " '../outputs/test2/exp2_times/16_16_5_LU.time']"
      ]
     },
     "execution_count": 13,
     "metadata": {},
     "output_type": "execute_result"
    }
   ],
   "source": [
    "lu_times"
   ]
  },
  {
   "cell_type": "code",
   "execution_count": 12,
   "id": "8d727207-cd24-41d4-8a45-f16f7383c203",
   "metadata": {},
   "outputs": [],
   "source": [
    "lu_times.sort()"
   ]
  },
  {
   "cell_type": "code",
   "execution_count": 27,
   "id": "685f788d-2c32-41ab-8ee8-9c6683047291",
   "metadata": {},
   "outputs": [],
   "source": [
    "results_eg = {}\n",
    "\n",
    "for f in eg_times:\n",
    "    _df = pd.read_csv(f, header=None)\n",
    "    results_eg[len(_df)] = _df"
   ]
  },
  {
   "cell_type": "code",
   "execution_count": 28,
   "id": "6e012f32-9c74-44d8-9d41-22a947147157",
   "metadata": {},
   "outputs": [],
   "source": [
    "results_lu = {}\n",
    "\n",
    "for f in lu_times:\n",
    "    _df = pd.read_csv(f, header=None)\n",
    "    results_lu[len(_df)] = _df"
   ]
  },
  {
   "cell_type": "code",
   "execution_count": 24,
   "id": "c674467b-5470-443b-9d97-a1eeec108d9b",
   "metadata": {},
   "outputs": [],
   "source": [
    "keys = list(results_lu.keys())\n",
    "keys.sort()"
   ]
  },
  {
   "cell_type": "code",
   "execution_count": 29,
   "id": "4f2bf614-0aa1-4eeb-8210-f33185b6f7fc",
   "metadata": {},
   "outputs": [
    {
     "data": {
      "text/plain": [
       "[1, 2, 3, 4, 5, 10, 15, 20, 25, 30, 35, 40, 45, 50, 55]"
      ]
     },
     "execution_count": 29,
     "metadata": {},
     "output_type": "execute_result"
    }
   ],
   "source": [
    "keys"
   ]
  },
  {
   "cell_type": "code",
   "execution_count": null,
   "id": "aba454f6-4185-4e16-83c9-d3c385ab32c1",
   "metadata": {},
   "outputs": [],
   "source": []
  }
 ],
 "metadata": {
  "kernelspec": {
   "display_name": "Python 3 (ipykernel)",
   "language": "python",
   "name": "python3"
  },
  "language_info": {
   "codemirror_mode": {
    "name": "ipython",
    "version": 3
   },
   "file_extension": ".py",
   "mimetype": "text/x-python",
   "name": "python",
   "nbconvert_exporter": "python",
   "pygments_lexer": "ipython3",
   "version": "3.9.6"
  }
 },
 "nbformat": 4,
 "nbformat_minor": 5
}
