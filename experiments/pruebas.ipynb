{
 "cells": [
  {
   "cell_type": "code",
   "execution_count": 1,
   "id": "5a899e19-f474-4768-bcc7-e059ff033f35",
   "metadata": {},
   "outputs": [],
   "source": [
    "import numpy as np"
   ]
  },
  {
   "cell_type": "code",
   "execution_count": 2,
   "id": "df428f54-62f8-4499-9f93-4227655b7a2a",
   "metadata": {},
   "outputs": [],
   "source": [
    "# Input\n",
    "INTERNAL_RADIUS = 5.0\n",
    "EXTERNAL_RADIUS = 6.0\n",
    "M_1_RADIUS = 10\n",
    "N_DEGREES = 8\n",
    "ISOTERMA = 500\n",
    "TEMP_INT = 1500\n",
    "TEMP_EXT = np.random.normal(loc=150, scale=10, size=N_DEGREES)"
   ]
  },
  {
   "cell_type": "markdown",
   "id": "145f71fb-fbae-424c-a715-0bcfadbf1d05",
   "metadata": {},
   "source": [
    "La ecuacion que en el estacionario dice que\n",
    "\n",
    "\\begin{equation} \n",
    "   \\frac{\\partial^2 T}{\\partial r^2} (r, \\theta) + \\frac{\\partial T}{r \\partial r}(r, \\theta) + \\frac{\\partial^2 T}{r^2 \\partial \\theta^2}(r, \\theta) = 0\n",
    "\\end{equation}\n",
    "\n",
    "Usando diferencias finitas tenemos que\n",
    "\n",
    "\\begin{equation} \n",
    "   \\frac{t_{j-1,k} - 2 t_{j,k} + t_{j+1,k}}{(\\Delta r)^2} + \\frac{t_{j,k} - t_{j-1,k}}{r \\Delta r} + \\frac{t_{j,k-1} - 2 t_{j,k} + t_{j,k+1}}{r^2(\\Delta \\theta)^2} = 0\n",
    "\\end{equation}\n",
    "\n",
    "Distribuyendo para obtener los coeficientes de cada variable obtenemos\n",
    "\n",
    "1. $t_{j-1,k} = (\\Delta r)^{-2} - (r \\Delta r)^{-1}$\n",
    "2. $t_{j , k} = (r \\Delta r)^{-1} - 2(\\Delta r)^{-2} - 2(r^2(\\Delta\\theta)^2)^{-1}$\n",
    "3. $t_{j+1,k} = (\\Delta r)^{-2}$\n",
    "4. $t_{j,k-1} = (r^2 (\\Delta\\theta)^2)^{-1}$\n",
    "5. $t_{j,k+1} = (r^2 (\\Delta\\theta)^2)^{-1}$\n",
    "\n",
    "En total hay $(m+1) n$ puntos donde deberemos calcular la temperatura\n",
    "\n",
    "Entonces, tenemos el vector $x=(t_{0,0},\\dots,t_{0,n},t_{1,0},\\dots,t_{m+1,0},\\dots,t_{m+1,n})$. Si definimos la matriz $A$ de forma tal que al hacer $Ax=b$, resolvemos el sistema.\n",
    "\n",
    "\n",
    "Como $r, \\theta, \\Delta r, \\Delta \\theta$ son datos, los coeficientes son todos numericos ($r$ es el valor del radio en cada punto y $\\theta$ el angulo, pero no son incognitas, dependen del $j,k$)"
   ]
  },
  {
   "cell_type": "code",
   "execution_count": 11,
   "id": "26391531-b473-4a59-bcc8-07327c1701b8",
   "metadata": {},
   "outputs": [],
   "source": [
    "delta_r = 1.0/(M_1_RADIUS)\n",
    "delta_g = 2 * np.pi / N_DEGREES"
   ]
  },
  {
   "cell_type": "code",
   "execution_count": 21,
   "id": "74c8a27d-d184-47fa-a4a5-4480ec40c19e",
   "metadata": {},
   "outputs": [
    {
     "name": "stdout",
     "output_type": "stream",
     "text": [
      "99.99999999999999\n",
      "100.0\n"
     ]
    }
   ],
   "source": [
    "print(0.1**-2)\n",
    "print(np.square(0.1**-1))"
   ]
  },
  {
   "cell_type": "markdown",
   "id": "09525ff3-52bb-449c-9834-a69f6df71f27",
   "metadata": {},
   "source": [
    "Llamo $n'=n(m+1)$. Sea $A\\in\\mathbb{R}^{n' \\times n'}$.\n",
    "\n",
    "\\begin{bmatrix}\n",
    " \\\\\n",
    "\\end{bmatrix}"
   ]
  },
  {
   "cell_type": "code",
   "execution_count": null,
   "id": "4aca34bf-5f79-49f5-ad59-eaa12a1b8cb4",
   "metadata": {},
   "outputs": [],
   "source": []
  }
 ],
 "metadata": {
  "kernelspec": {
   "display_name": "Python 3 (ipykernel)",
   "language": "python",
   "name": "python3"
  },
  "language_info": {
   "codemirror_mode": {
    "name": "ipython",
    "version": 3
   },
   "file_extension": ".py",
   "mimetype": "text/x-python",
   "name": "python",
   "nbconvert_exporter": "python",
   "pygments_lexer": "ipython3",
   "version": "3.9.6"
  }
 },
 "nbformat": 4,
 "nbformat_minor": 5
}
